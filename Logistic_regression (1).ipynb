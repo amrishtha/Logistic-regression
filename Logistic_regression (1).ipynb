{
  "nbformat": 4,
  "nbformat_minor": 0,
  "metadata": {
    "colab": {
      "provenance": []
    },
    "kernelspec": {
      "name": "python3",
      "display_name": "Python 3"
    },
    "language_info": {
      "name": "python"
    }
  },
  "cells": [
    {
      "cell_type": "markdown",
      "source": [
        "Question 1: What is Logistic Regression, and how does it differ from Linear\n",
        "Regression?\n",
        "\n",
        "Answer:"
      ],
      "metadata": {
        "id": "OWMQsTiB_YEE"
      }
    },
    {
      "cell_type": "markdown",
      "source": [
        "Logistic Regression is a statistical technique used for classification problems where the dependent variable is categorical (e.g., 0/1, yes/no). It uses a sigmoid function to estimate probabilities between 0 and 1. On the other hand, Linear Regression is used for predicting continuous outcomes by fitting a straight-line relationship between variables.\n",
        "\n",
        "\n",
        "Linear Regression predicts continuous values, while Logistic Regression predicts categorical outcomes based on probability."
      ],
      "metadata": {
        "id": "SgU5aTgC_UTt"
      }
    },
    {
      "cell_type": "markdown",
      "source": [
        "Question 2: Explain the role of the Sigmoid function in Logistic Regression.\n",
        "\n",
        "Answer:"
      ],
      "metadata": {
        "id": "an-2eA7Z_ho7"
      }
    },
    {
      "cell_type": "markdown",
      "source": [
        "The Sigmoid function in Logistic Regression transforms the linear combination of inputs into a probability value between 0 and 1. This makes it possible to interpret the output as the likelihood of a data point belonging to a particular class. It ensures that predictions remain within a valid probability range and helps in setting a threshold (e.g., 0.5) for classification decisions."
      ],
      "metadata": {
        "id": "8jtwldOQ_skW"
      }
    },
    {
      "cell_type": "markdown",
      "source": [
        "Question 3: What is Regularization in Logistic Regression and why is it needed?\n",
        "\n",
        "Answer:"
      ],
      "metadata": {
        "id": "f-e7swFF_hk5"
      }
    },
    {
      "cell_type": "markdown",
      "source": [
        "Regularization in Logistic Regression is a method used to control model complexity and prevent overfitting. In Logistic Regression, the model tries to fit the data by assigning weights to each feature. If these weights become too large, the model may perform very well on training data but fail on unseen data. Regularization addresses this by adding a penalty term to the cost function, which discourages very large coefficients.\n",
        "\n",
        "There are two common types:\n",
        "\n",
        "L1 Regularization (Lasso): Shrinks some coefficients to zero, effectively performing feature selection.\n",
        "\n",
        "L2 Regularization (Ridge): Distributes penalty across coefficients, reducing their magnitude but not eliminating them.\n",
        "\n",
        "Regularization is needed because it improves the model's ability to generalize, reduces variance, and ensures more stable and reliable predictions on new data."
      ],
      "metadata": {
        "id": "7BfqvQOv_5ZL"
      }
    },
    {
      "cell_type": "markdown",
      "source": [
        "Question 4: What are some common evaluation metrics for classification models, and why are they important?\n",
        "\n",
        "Answer:"
      ],
      "metadata": {
        "id": "0EYO-YUiAMzj"
      }
    },
    {
      "cell_type": "markdown",
      "source": [
        "Common evaluation metrics for classification models include:\n",
        "\n",
        "Accuracy: Measures the percentage of correctly predicted instances. Useful but can be misleading with imbalanced data.\n",
        "\n",
        "Precision: Proportion of correctly predicted positive cases out of all predicted positives. Important when false positives are costly.\n",
        "\n",
        "Recall (Sensitivity): Proportion of correctly predicted positive cases out of all actual positives. Important when missing positives is critical.\n",
        "\n",
        "F1-Score: Harmonic mean of precision and recall, providing a balanced measure when both false positives and false negatives matter.\n",
        "\n",
        "ROC-AUC: Measures the model’s ability to distinguish between classes across different thresholds.\n",
        "\n",
        "These metrics are important because they give a deeper understanding of model performance beyond just accuracy, help handle class imbalance, and guide in choosing the best model for real-world applications."
      ],
      "metadata": {
        "id": "Ag6TUtYlAbGh"
      }
    },
    {
      "cell_type": "markdown",
      "source": [
        "Question 5: Write a Python program that loads a CSV file into a Pandas DataFrame, splits into train/test sets, trains a Logistic Regression model, and prints its accuracy.(Use Dataset from sklearn package)\n",
        "(Include your Python code and output in the code box below.)\n",
        "\n",
        "Answer:"
      ],
      "metadata": {
        "id": "Om3UnHuNAhrJ"
      }
    },
    {
      "cell_type": "code",
      "source": [
        "import pandas as pd\n",
        "from sklearn.model_selection import train_test_split\n",
        "from sklearn.linear_model import LogisticRegression\n",
        "from sklearn.metrics import accuracy_score\n",
        "from sklearn.datasets import load_breast_cancer\n",
        "\n",
        "data = load_breast_cancer()\n",
        "df = pd.DataFrame(data.data, columns=data.feature_names)\n",
        "df['target'] = data.target\n",
        "\n",
        "X = df.drop('target', axis=1)\n",
        "y = df['target']\n",
        "\n",
        "X_train, X_test, y_train, y_test = train_test_split(X, y, test_size=0.2, random_state=42)\n",
        "\n",
        "model = LogisticRegression(max_iter=5000)\n",
        "model.fit(X_train, y_train)\n",
        "\n",
        "y_pred = model.predict(X_test)\n",
        "accuracy = accuracy_score(y_test, y_pred)\n",
        "\n",
        "print(\"Accuracy of Logistic Regression model:\", accuracy)"
      ],
      "metadata": {
        "colab": {
          "base_uri": "https://localhost:8080/"
        },
        "id": "0wd3hdeKAwjd",
        "outputId": "8d18e4bf-922b-4974-ba25-bc117488d127"
      },
      "execution_count": 1,
      "outputs": [
        {
          "output_type": "stream",
          "name": "stdout",
          "text": [
            "Accuracy of Logistic Regression model: 0.956140350877193\n"
          ]
        }
      ]
    },
    {
      "cell_type": "markdown",
      "source": [
        "Question 6: Write a Python program to train a Logistic Regression model using L2 regularization (Ridge) and print the model coefficients and accuracy. (Use Dataset from sklearn package)\n",
        "\n",
        "(Include your Python code and output in the code box below.)\n",
        "\n",
        "Answer:"
      ],
      "metadata": {
        "id": "u_eaPJ92BXQ7"
      }
    },
    {
      "cell_type": "code",
      "source": [
        "data = load_breast_cancer()\n",
        "df = pd.DataFrame(data.data, columns=data.feature_names)\n",
        "df['target'] = data.target\n",
        "\n",
        "X = df.drop('target', axis=1)\n",
        "y = df['target']\n",
        "\n",
        "X_train, X_test, y_train, y_test = train_test_split(X, y, test_size=0.2, random_state=42)\n",
        "\n",
        "model = LogisticRegression(penalty='l2', max_iter=5000)\n",
        "model.fit(X_train, y_train)\n",
        "\n",
        "y_pred = model.predict(X_test)\n",
        "accuracy = accuracy_score(y_test, y_pred)\n",
        "\n",
        "print(\"Model Coefficients:\", model.coef_)\n",
        "print(\"Accuracy of Logistic Regression with L2 Regularization:\", accuracy)"
      ],
      "metadata": {
        "colab": {
          "base_uri": "https://localhost:8080/"
        },
        "id": "VN75KjolBWiA",
        "outputId": "9982474f-edff-4a41-deda-f3e7c5f19630"
      },
      "execution_count": 2,
      "outputs": [
        {
          "output_type": "stream",
          "name": "stdout",
          "text": [
            "Model Coefficients: [[ 1.0274368   0.22145051 -0.36213488  0.0254667  -0.15623532 -0.23771256\n",
            "  -0.53255786 -0.28369224 -0.22668189 -0.03649446 -0.09710208  1.3705667\n",
            "  -0.18140942 -0.08719575 -0.02245523  0.04736092 -0.04294784 -0.03240188\n",
            "  -0.03473732  0.01160522  0.11165329 -0.50887722 -0.01555395 -0.016857\n",
            "  -0.30773117 -0.77270908 -1.42859535 -0.51092923 -0.74689363 -0.10094404]]\n",
            "Accuracy of Logistic Regression with L2 Regularization: 0.956140350877193\n"
          ]
        }
      ]
    },
    {
      "cell_type": "markdown",
      "source": [
        "Question 7: Write a Python program to train a Logistic Regression model for multiclass classification using multi_class='ovr' and print the classification report. (Use Dataset from sklearn package)\n",
        "\n",
        "(Include your Python code and output in the code box below.)\n",
        "\n",
        " Answer:"
      ],
      "metadata": {
        "id": "QiUXNRA9B6hM"
      }
    },
    {
      "cell_type": "code",
      "source": [
        "import pandas as pd\n",
        "from sklearn.model_selection import train_test_split\n",
        "from sklearn.linear_model import LogisticRegression\n",
        "from sklearn.multiclass import OneVsRestClassifier\n",
        "from sklearn.metrics import classification_report\n",
        "from sklearn.datasets import load_iris\n",
        "\n",
        "\n",
        "data = load_iris()\n",
        "df = pd.DataFrame(data.data, columns=data.feature_names)\n",
        "df['target'] = data.target\n",
        "\n",
        "\n",
        "X = df.drop('target', axis=1)\n",
        "y = df['target']\n",
        "\n",
        "X_train, X_test, y_train, y_test = train_test_split(X, y, test_size=0.2, random_state=42)\n",
        "\n",
        "\n",
        "base_model = LogisticRegression(max_iter=5000)\n",
        "model = OneVsRestClassifier(base_model)\n",
        "model.fit(X_train, y_train)\n",
        "\n",
        "y_pred = model.predict(X_test)\n",
        "\n",
        "\n",
        "print(\"Classification Report:\\n\")\n",
        "print(classification_report(y_test, y_pred))\n",
        "import pandas as pd\n",
        "from sklearn.model_selection import train_test_split\n",
        "from sklearn.linear_model import LogisticRegression\n",
        "from sklearn.multiclass import OneVsRestClassifier\n",
        "from sklearn.metrics import classification_report\n",
        "from sklearn.datasets import load_iris\n",
        "\n",
        "\n",
        "data = load_iris()\n",
        "df = pd.DataFrame(data.data, columns=data.feature_names)\n",
        "df['target'] = data.target\n",
        "\n",
        "\n",
        "X = df.drop('target', axis=1)\n",
        "y = df['target']\n",
        "\n",
        "\n",
        "X_train, X_test, y_train, y_test = train_test_split(X, y, test_size=0.2, random_state=42)\n",
        "\n",
        "\n",
        "base_model = LogisticRegression(max_iter=5000)\n",
        "model = OneVsRestClassifier(base_model)\n",
        "model.fit(X_train, y_train)\n",
        "\n",
        "\n",
        "y_pred = model.predict(X_test)\n",
        "\n",
        "print(\"Classification Report:\\n\")\n",
        "print(classification_report(y_test, y_pred))"
      ],
      "metadata": {
        "colab": {
          "base_uri": "https://localhost:8080/"
        },
        "id": "wdZkLrHmHBQt",
        "outputId": "b0e50687-1046-4539-8a9f-60f232f32963"
      },
      "execution_count": 7,
      "outputs": [
        {
          "output_type": "stream",
          "name": "stdout",
          "text": [
            "Classification Report:\n",
            "\n",
            "              precision    recall  f1-score   support\n",
            "\n",
            "           0       1.00      1.00      1.00        10\n",
            "           1       1.00      0.89      0.94         9\n",
            "           2       0.92      1.00      0.96        11\n",
            "\n",
            "    accuracy                           0.97        30\n",
            "   macro avg       0.97      0.96      0.97        30\n",
            "weighted avg       0.97      0.97      0.97        30\n",
            "\n",
            "Classification Report:\n",
            "\n",
            "              precision    recall  f1-score   support\n",
            "\n",
            "           0       1.00      1.00      1.00        10\n",
            "           1       1.00      0.89      0.94         9\n",
            "           2       0.92      1.00      0.96        11\n",
            "\n",
            "    accuracy                           0.97        30\n",
            "   macro avg       0.97      0.96      0.97        30\n",
            "weighted avg       0.97      0.97      0.97        30\n",
            "\n"
          ]
        }
      ]
    },
    {
      "cell_type": "markdown",
      "source": [
        "Question 8: Write a Python program to apply GridSearchCV to tune C and penalty\n",
        "hyperparameters for Logistic Regression and print the best parameters and validation accuracy. Use Dataset from sklearn package)\n",
        "\n",
        "(Include your Python code and output in the code box below.)\n",
        "\n",
        "Answer1:"
      ],
      "metadata": {
        "id": "0lcUkXh4CZ5T"
      }
    },
    {
      "cell_type": "code",
      "source": [
        "import pandas as pd\n",
        "from sklearn.model_selection import train_test_split, GridSearchCV\n",
        "from sklearn.linear_model import LogisticRegression\n",
        "from sklearn.datasets import load_breast_cancer\n",
        "\n",
        "data = load_breast_cancer()\n",
        "df = pd.DataFrame(data.data, columns=data.feature_names)\n",
        "df['target'] = data.target\n",
        "\n",
        "X = df.drop('target', axis=1)\n",
        "y = df['target']\n",
        "\n",
        "X_train, X_test, y_train, y_test = train_test_split(X, y, test_size=0.2, random_state=42)\n",
        "\n",
        "model = LogisticRegression(max_iter=5000, solver='liblinear')\n",
        "\n",
        "param_grid = {\n",
        "    'C': [0.01, 0.1, 1, 10],\n",
        "    'penalty': ['l1', 'l2']\n",
        "}\n",
        "\n",
        "grid = GridSearchCV(model, param_grid, cv=5, scoring='accuracy')\n",
        "grid.fit(X_train, y_train)\n",
        "\n",
        "print(\"Best Parameters:\", grid.best_params_)\n",
        "print(\"Best Cross-Validation Accuracy:\", grid.best_score_)"
      ],
      "metadata": {
        "colab": {
          "base_uri": "https://localhost:8080/"
        },
        "id": "fm7Ii2RxCoV5",
        "outputId": "b1001197-540b-4aa6-ee2a-5d0a70161fa3"
      },
      "execution_count": 4,
      "outputs": [
        {
          "output_type": "stream",
          "name": "stdout",
          "text": [
            "Best Parameters: {'C': 10, 'penalty': 'l2'}\n",
            "Best Cross-Validation Accuracy: 0.9626373626373628\n"
          ]
        }
      ]
    },
    {
      "cell_type": "markdown",
      "source": [
        "Question 9: Write a Python program to standardize the features before training Logistic Regression and compare the model's accuracy with and without scaling. (Use Dataset from sklearn package)\n",
        "(Include your Python code and output in the code box below.)\n",
        "\n",
        "Answer:"
      ],
      "metadata": {
        "id": "XaNB67VjCZx5"
      }
    },
    {
      "cell_type": "code",
      "source": [
        "import pandas as pd\n",
        "from sklearn.model_selection import train_test_split\n",
        "from sklearn.linear_model import LogisticRegression\n",
        "from sklearn.metrics import accuracy_score\n",
        "from sklearn.preprocessing import StandardScaler\n",
        "from sklearn.datasets import load_breast_cancer\n",
        "\n",
        "data = load_breast_cancer()\n",
        "df = pd.DataFrame(data.data, columns=data.feature_names)\n",
        "df['target'] = data.target\n",
        "\n",
        "X = df.drop('target', axis=1)\n",
        "y = df['target']\n",
        "\n",
        "X_train, X_test, y_train, y_test = train_test_split(X, y, test_size=0.2, random_state=42)\n",
        "\n",
        "model1 = LogisticRegression(max_iter=5000)\n",
        "model1.fit(X_train, y_train)\n",
        "y_pred1 = model1.predict(X_test)\n",
        "acc_without_scaling = accuracy_score(y_test, y_pred1)\n",
        "\n",
        "scaler = StandardScaler()\n",
        "X_train_scaled = scaler.fit_transform(X_train)\n",
        "X_test_scaled = scaler.transform(X_test)\n",
        "\n",
        "model2 = LogisticRegression(max_iter=5000)\n",
        "model2.fit(X_train_scaled, y_train)\n",
        "y_pred2 = model2.predict(X_test_scaled)\n",
        "acc_with_scaling = accuracy_score(y_test, y_pred2)\n",
        "\n",
        "print(\"Accuracy without scaling:\", acc_without_scaling)\n",
        "print(\"Accuracy with scaling:\", acc_with_scaling)"
      ],
      "metadata": {
        "colab": {
          "base_uri": "https://localhost:8080/"
        },
        "id": "Q5covykZCnGx",
        "outputId": "72822070-8366-4bc8-8ba1-3edccb55cd47"
      },
      "execution_count": 5,
      "outputs": [
        {
          "output_type": "stream",
          "name": "stdout",
          "text": [
            "Accuracy without scaling: 0.956140350877193\n",
            "Accuracy with scaling: 0.9736842105263158\n"
          ]
        }
      ]
    },
    {
      "cell_type": "markdown",
      "source": [
        "Question 10: Imagine you are working at an e-commerce company that wants to\n",
        "predict which customers will respond to a marketing campaign. Given an imbalanced dataset (only 5% of customers respond), describe the approach you’d take to build a Logistic Regression model — including data handling,feature scaling, balancing classes, hyperparameter tuning, and evaluating the model for this real-world business use case.\n",
        "\n",
        "Answer:\n"
      ],
      "metadata": {
        "id": "bG7oetD8Dbv9"
      }
    },
    {
      "cell_type": "markdown",
      "source": [
        "To build a Logistic Regression model for an imbalanced marketing response dataset, the following approach would be effective:\n",
        "\n",
        "Data Handling:\n",
        "\n",
        "Clean and preprocess customer data (remove duplicates, handle missing values).\n",
        "\n",
        "Encode categorical variables (e.g., gender, region) using one-hot encoding.\n",
        "\n",
        "Standardize numerical features so that all variables are on a comparable scale.\n",
        "\n",
        "Balancing Classes:\n",
        "\n",
        "Since only 5% of customers respond, the dataset is highly imbalanced.\n",
        "\n",
        "Apply techniques like SMOTE (Synthetic Minority Oversampling), undersampling the majority class, or use class weights in Logistic Regression (class_weight='balanced') to address imbalance.\n",
        "\n",
        "Feature Scaling:\n",
        "\n",
        "Standardize features using StandardScaler so that coefficients are meaningful and the model converges faster.\n",
        "\n",
        "Hyperparameter Tuning:\n",
        "\n",
        "Use GridSearchCV to tune parameters such as C (regularization strength) and penalty (L1/L2).\n",
        "\n",
        "Adjust class weights if imbalance persists.\n",
        "\n",
        "Model Evaluation:\n",
        "\n",
        "Avoid relying only on accuracy, since it can be misleading with imbalanced data.\n",
        "\n",
        "Use metrics like Precision, Recall, F1-score, and ROC-AUC to assess performance.\n",
        "\n",
        "Specifically, focus on Recall (to capture as many responders as possible) and Precision (to avoid targeting uninterested customers).\n",
        "\n",
        "Business Application:\n",
        "\n",
        "A high Recall ensures that most potential responders are captured, maximizing campaign reach.\n",
        "\n",
        "A good Precision ensures that marketing costs are not wasted on uninterested customers.\n",
        "\n",
        "The final balance depends on whether the company prioritizes maximizing reach or optimizing costs.\n",
        "\n",
        "This approach ensures the model is robust, fair, and business-oriented, while effectively handling class imbalance in a real-world scenario."
      ],
      "metadata": {
        "id": "JDh3EpnOD4ZI"
      }
    }
  ]
}